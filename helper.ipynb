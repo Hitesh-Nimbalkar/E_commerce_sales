{
 "cells": [
  {
   "cell_type": "code",
   "execution_count": 1,
   "metadata": {},
   "outputs": [],
   "source": [
    "# Data Overview\n",
    "import matplotlib.pyplot as plt\n",
    "import numpy as np\n",
    "\n"
   ]
  },
  {
   "cell_type": "code",
   "execution_count": null,
   "metadata": {},
   "outputs": [],
   "source": [
    "\n",
    "\n",
    "class Data_overview:\n",
    "    def __init__(self,data) -> None:\n",
    "        self.data=data\n",
    "       \n",
    "\n",
    "    def plot_unique_percentage(self):\n",
    "        \"\"\"\n",
    "        Plot the percentage of unique values for each column in a DataFrame.\n",
    "\n",
    "        Parameters:\n",
    "        - dataframe: The input Pandas DataFrame.\n",
    "\n",
    "        Returns:\n",
    "        - None\n",
    "        \"\"\"\n",
    "        # Accessing Dataframe\n",
    "        dataframe=self.data\n",
    "        \n",
    "\n",
    "\n",
    "        unique_percentages = []\n",
    "        column_names = []\n",
    "\n",
    "        for column in dataframe.columns:\n",
    "            unique_count = dataframe[column].nunique()\n",
    "            total_count = len(dataframe)\n",
    "            percentage = (unique_count / total_count) * 100\n",
    "\n",
    "            unique_percentages.append(percentage)\n",
    "            column_names.append(column)\n",
    "\n",
    "        plt.figure(figsize=(10, 6))\n",
    "        plt.bar(column_names, unique_percentages)\n",
    "        plt.xlabel(\"Columns\")\n",
    "        plt.ylabel(\"Unique Value Percentage\")\n",
    "        plt.title(\"Unique Value Percentage for DataFrame Columns\")\n",
    "        plt.xticks(rotation=90)  # Rotate x-axis labels for better visibility\n",
    "        plt.show()\n",
    "        \n",
    "    def plot_nan_percentage(self):\n",
    "        \"\"\"\n",
    "        Plot the percentage of NaN values for each column in a Pandas DataFrame.\n",
    "\n",
    "        Parameters:\n",
    "        - dataframe: The input Pandas DataFrame.\n",
    "\n",
    "        Returns:\n",
    "        - None\n",
    "        \"\"\"\n",
    "        # Accessing Data Framme \n",
    "        dataframe=self.data\n",
    "\n",
    "        nan_percentages = (dataframe.isna().mean() * 100)\n",
    "        \n",
    "        plt.figure(figsize=(10, 6))\n",
    "        nan_percentages.plot(kind='bar')\n",
    "        plt.xlabel(\"Columns\")\n",
    "        plt.ylabel(\"NaN Value Percentage\")\n",
    "        plt.title(\"NaN Value Percentage for DataFrame Columns\")\n",
    "        plt.xticks(rotation=45)  # Rotate x-axis labels for better visibility\n",
    "        plt.show()"
   ]
  },
  {
   "cell_type": "code",
   "execution_count": null,
   "metadata": {},
   "outputs": [],
   "source": []
  }
 ],
 "metadata": {
  "kernelspec": {
   "display_name": ".venv",
   "language": "python",
   "name": "python3"
  },
  "language_info": {
   "codemirror_mode": {
    "name": "ipython",
    "version": 3
   },
   "file_extension": ".py",
   "mimetype": "text/x-python",
   "name": "python",
   "nbconvert_exporter": "python",
   "pygments_lexer": "ipython3",
   "version": "3.11.5"
  }
 },
 "nbformat": 4,
 "nbformat_minor": 2
}
